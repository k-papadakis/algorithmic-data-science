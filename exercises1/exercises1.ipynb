{
 "cells": [
  {
   "cell_type": "markdown",
   "metadata": {},
   "source": [
    "# Algorithmic Data Science - Exercise Series 1\n",
    "\n",
    "**Konstantinos Papadakis**\n",
    "\n",
    "*Data Science and Machine Learning 03400149*\n",
    "\n",
    "*k.i.papadakis@gmail.com*"
   ]
  },
  {
   "cell_type": "markdown",
   "metadata": {},
   "source": [
    "## Exercise 1"
   ]
  },
  {
   "cell_type": "markdown",
   "metadata": {},
   "source": [
    "<img src=\"images/6-3-1.png\" width=\"600\">"
   ]
  },
  {
   "cell_type": "code",
   "execution_count": 36,
   "metadata": {},
   "outputs": [
    {
     "name": "stdout",
     "output_type": "stream",
     "text": [
      "Singleton Counts\n",
      "1: 4\n",
      "2: 6\n",
      "3: 8\n",
      "4: 8\n",
      "5: 6\n",
      "6: 4\n",
      "\n",
      "Pair Counts\n",
      "[[4 2 3 2 1 0]\n",
      " [2 6 3 4 2 1]\n",
      " [3 3 8 4 4 2]\n",
      " [2 4 4 8 3 3]\n",
      " [1 2 4 3 6 2]\n",
      " [0 1 2 3 2 4]]\n",
      "\n",
      "Hashes\n",
      "(1, 2): 2\n",
      "(1, 3): 3\n",
      "(1, 4): 4\n",
      "(1, 5): 5\n",
      "(1, 6): 6\n",
      "(2, 3): 6\n",
      "(2, 4): 8\n",
      "(2, 5): 10\n",
      "(2, 6): 1\n",
      "(3, 4): 1\n",
      "(3, 5): 4\n",
      "(3, 6): 7\n",
      "(4, 5): 9\n",
      "(4, 6): 2\n",
      "(5, 6): 8\n",
      "\n",
      "Frequent Buckets\n",
      "1 2 4 8\n",
      "\n",
      "PCY Second Pass Pairs\n",
      "(1, 2) (1, 4) (2, 4) (2, 6) (3, 4) (3, 5) (4, 6) (5, 6)\n"
     ]
    }
   ],
   "source": [
    "import itertools\n",
    "import numpy as np\n",
    "\n",
    "baskets = np.array([\n",
    "    [1, 2, 3], [2, 3, 4], [3, 4, 5], [4, 5, 6],\n",
    "    [1, 3, 5], [2, 4, 6], [1, 3, 4], [2, 4, 5],\n",
    "    [3, 5, 6], [1, 2, 4], [2, 3, 5], [3, 4, 6],\n",
    "], dtype=int)\n",
    "threshold = 4\n",
    "n_buckets = 11\n",
    "\n",
    "def hash_(i, j):\n",
    "    return (i * j) % n_buckets\n",
    "\n",
    "\n",
    "# (a) Compute the supports \n",
    "item_names, item_freqs = np.unique(baskets, return_counts=True)\n",
    "\n",
    "pair_freqs = np.zeros((6, 6), dtype=int)\n",
    "for basket in baskets:\n",
    "    for x in basket:\n",
    "        for y in basket:\n",
    "            pair_freqs[x-1][y-1] += 1  # 0 based indexing, should be a triangular matrix normally\n",
    "\n",
    "print('Singleton Counts')\n",
    "for name, count in zip(item_names, item_freqs):\n",
    "    print(f'{name}: {count}')\n",
    "print()\n",
    "print('Pair Counts')\n",
    "print(pair_freqs)\n",
    "print()\n",
    "\n",
    "# (b) Hashes\n",
    "print('Hashes')\n",
    "for pair in itertools.combinations(item_names, 2):\n",
    "    print(f'{pair}: {hash_(*pair)}')\n",
    "print()\n",
    "\n",
    "# (c) Frequent bucket\n",
    "bucket_freqs = np.zeros(n_buckets, dtype=int)\n",
    "for basket in baskets:\n",
    "    for pair in itertools.combinations(basket, 2):\n",
    "        bucket_freqs[hash_(*pair)] += 1\n",
    "\n",
    "print('Frequent Buckets')\n",
    "print(*(bucket for bucket, freq in enumerate(bucket_freqs) if freq >= threshold))\n",
    "print()\n",
    "\n",
    "# (c) PCY second pass pairs\n",
    "pcy_freq_pairs = []\n",
    "for pair in itertools.combinations(item_names, 2):\n",
    "    if bucket_freqs[hash_(*pair)] >= threshold:\n",
    "        pcy_freq_pairs.append(pair)\n",
    "print('PCY Second Pass Pairs')\n",
    "print(*(pcy_freq_pairs))"
   ]
  },
  {
   "cell_type": "markdown",
   "metadata": {},
   "source": [
    "<img src=\"images/6-3-2.png\" width=700>"
   ]
  },
  {
   "cell_type": "code",
   "execution_count": 45,
   "metadata": {},
   "outputs": [
    {
     "name": "stdout",
     "output_type": "stream",
     "text": [
      "Second Pass Bucket Frequencies\n",
      "[0 5 5 0 6 0 0 0 6]\n",
      "\n",
      "Frequent Pairs after the Second Pass\n",
      "(1, 2) (1, 4) (2, 4) (2, 6) (3, 4) (3, 5) (4, 6) (5, 6)\n"
     ]
    }
   ],
   "source": [
    "def hash_2(i, j):\n",
    "    return (i * j) % n_buckets\n",
    "\n",
    "n_buckets_2 = 9\n",
    "bucket_freqs_2 = np.zeros(n_buckets_2, int)\n",
    "first_pass_candidates = set(pcy_freq_pairs)  # should be a bitmap normally\n",
    "\n",
    "# Stage 2\n",
    "for basket in baskets:\n",
    "    for pair in itertools.combinations(basket, 2):\n",
    "        if pair in first_pass_candidates:\n",
    "            bucket_freqs_2[hash_2(*pair)] += 1\n",
    "\n",
    "stage_2_pairs = []\n",
    "for pair in pcy_freq_pairs:\n",
    "    if bucket_freqs_2[hash_2(*pair)] >= threshold:\n",
    "        stage_2_pairs.append(pair)\n",
    "        \n",
    "print('Second Pass Bucket Frequencies')\n",
    "print(bucket_freqs_2)\n",
    "print()\n",
    "print('Frequent Pairs after the Second Pass')\n",
    "print(*stage_2_pairs)"
   ]
  },
  {
   "cell_type": "markdown",
   "metadata": {},
   "source": [
    "The second hashing didn't reduce the frequent pairs, which is quite unfortunate."
   ]
  }
 ],
 "metadata": {
  "interpreter": {
   "hash": "e041891ed649f90b053430d712131357e023b3fd6426175b0a0cce39c82a1da9"
  },
  "kernelspec": {
   "display_name": "Python 3.9.12 ('torchenv')",
   "language": "python",
   "name": "python3"
  },
  "language_info": {
   "codemirror_mode": {
    "name": "ipython",
    "version": 3
   },
   "file_extension": ".py",
   "mimetype": "text/x-python",
   "name": "python",
   "nbconvert_exporter": "python",
   "pygments_lexer": "ipython3",
   "version": "3.9.12"
  },
  "orig_nbformat": 4
 },
 "nbformat": 4,
 "nbformat_minor": 2
}
